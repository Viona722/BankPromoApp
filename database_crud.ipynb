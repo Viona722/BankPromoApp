{
  "nbformat": 4,
  "nbformat_minor": 0,
  "metadata": {
    "colab": {
      "provenance": [],
      "authorship_tag": "ABX9TyN/RnPtEv0bI5pTY/yPI5di",
      "include_colab_link": true
    },
    "kernelspec": {
      "name": "python3",
      "display_name": "Python 3"
    },
    "language_info": {
      "name": "python"
    }
  },
  "cells": [
    {
      "cell_type": "markdown",
      "metadata": {
        "id": "view-in-github",
        "colab_type": "text"
      },
      "source": [
        "<a href=\"https://colab.research.google.com/github/Viona722/BankPromoApp/blob/main/database_crud.ipynb\" target=\"_parent\"><img src=\"https://colab.research.google.com/assets/colab-badge.svg\" alt=\"Open In Colab\"/></a>"
      ]
    },
    {
      "cell_type": "code",
      "execution_count": 1,
      "metadata": {
        "id": "lXZEKMaWiJqC"
      },
      "outputs": [],
      "source": [
        "import sqlite3\n",
        "import datetime"
      ]
    },
    {
      "cell_type": "code",
      "source": [
        "conn = sqlite3.connect('user.db')\n",
        "conn.execute(\"create table user (name text, timestamp timestamp)\")\n",
        "conn.close()"
      ],
      "metadata": {
        "id": "cnH6npeqiw9v"
      },
      "execution_count": 5,
      "outputs": []
    },
    {
      "cell_type": "code",
      "source": [
        "conn = sqlite3.connect('user.db')\n",
        "c = conn.cursor() # Call the cursor() method to create a cursor object\n",
        "c.execute(\"select * from user\")\n",
        "print(c.description)\n",
        "c.close()\n",
        "conn.close() # Call the close() method to actually close the connection"
      ],
      "metadata": {
        "colab": {
          "base_uri": "https://localhost:8080/"
        },
        "id": "5DiwHGAFjmJh",
        "outputId": "ec3ca0b3-2f6f-4f4b-a28e-3ddd135d2ef6"
      },
      "execution_count": 8,
      "outputs": [
        {
          "output_type": "stream",
          "name": "stdout",
          "text": [
            "(('name', None, None, None, None, None, None), ('timestamp', None, None, None, None, None, None))\n"
          ]
        }
      ]
    },
    {
      "cell_type": "code",
      "source": [
        "name = input(\"name \")"
      ],
      "metadata": {
        "colab": {
          "base_uri": "https://localhost:8080/"
        },
        "id": "GhJ7TQnJlNR3",
        "outputId": "d5a810f5-a31b-4bf5-a0d7-962903d63962"
      },
      "execution_count": 15,
      "outputs": [
        {
          "name": "stdout",
          "output_type": "stream",
          "text": [
            "name yy\n"
          ]
        }
      ]
    },
    {
      "cell_type": "code",
      "source": [
        "t = datetime.datetime.now()\n",
        "t"
      ],
      "metadata": {
        "colab": {
          "base_uri": "https://localhost:8080/"
        },
        "id": "kYv8pM9hlRYt",
        "outputId": "a8c56ab5-5807-4ebb-882f-785c28195771"
      },
      "execution_count": 16,
      "outputs": [
        {
          "output_type": "execute_result",
          "data": {
            "text/plain": [
              "datetime.datetime(2025, 3, 14, 12, 23, 50, 694703)"
            ]
          },
          "metadata": {},
          "execution_count": 16
        }
      ]
    },
    {
      "cell_type": "code",
      "source": [
        "conn = sqlite3.connect('user.db')\n",
        "c = conn.cursor()\n",
        "c.execute(\"insert into user (name, timestamp) values (?,?)\", (name, t))\n",
        "conn.commit()\n",
        "c.close()\n",
        "conn.close()"
      ],
      "metadata": {
        "id": "WBv4ReT_lUCc"
      },
      "execution_count": 17,
      "outputs": []
    },
    {
      "cell_type": "code",
      "source": [
        "conn = sqlite3.connect(\"user.db\")\n",
        "c = conn.cursor()\n",
        "c.execute(\"select * from user\")\n",
        "r = \"\"\n",
        "for row in c:\n",
        "  r = r + str(row) + \"\\n\"\n",
        "print(r)\n",
        "c.close()\n",
        "conn.close()"
      ],
      "metadata": {
        "colab": {
          "base_uri": "https://localhost:8080/"
        },
        "id": "jNxUl51Om091",
        "outputId": "5c27d2d0-9523-4474-b6ca-269ba87e352b"
      },
      "execution_count": 18,
      "outputs": [
        {
          "output_type": "stream",
          "name": "stdout",
          "text": [
            "('tt', '2025-03-14 12:16:07.050222')\n",
            "('tt', '2025-03-14 12:16:07.050222')\n",
            "('yy', '2025-03-14 12:23:50.694703')\n",
            "\n"
          ]
        }
      ]
    },
    {
      "cell_type": "code",
      "source": [
        "conn = sqlite3.connect(\"user.db\")\n",
        "c = conn.cursor()\n",
        "c.execute(\"delete from user\")\n",
        "conn.commit()\n",
        "c.close()\n",
        "conn.close()"
      ],
      "metadata": {
        "id": "8JeN4NVkncaV"
      },
      "execution_count": 19,
      "outputs": []
    }
  ]
}